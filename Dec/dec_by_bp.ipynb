{
 "cells": [
  {
   "cell_type": "code",
   "execution_count": 1,
   "id": "c20a8443d615e5f3",
   "metadata": {
    "ExecuteTime": {
     "end_time": "2023-10-27T03:50:02.628417100Z",
     "start_time": "2023-10-27T03:50:01.557044800Z"
    }
   },
   "outputs": [],
   "source": [
    "import numpy as np\n",
    "import tensorflow as tf\n",
    "import time\n",
    "import sys\n",
    "from utils import Logger, pcm2gm\n",
    "from bp_7 import BP_Decoder, E2EModel, test_model_bp"
   ]
  },
  {
   "cell_type": "code",
   "execution_count": 2,
   "id": "89468fc20f2fc55",
   "metadata": {
    "ExecuteTime": {
     "start_time": "2023-10-27T03:50:02.635984200Z"
    }
   },
   "outputs": [],
   "source": [
    "# time_now = time.strftime('%m%d%H%M%S', time.localtime(time.time()))\n",
    "# os.makedirs('./Logs/' + time_now)\n",
    "\n",
    "\n",
    "# # log\n",
    "# logfile = open('./bp_dec_result/'+time_now+'.txt', 'a')\n",
    "# sys.stdout = Logger('./bp_dec_result/'+time_now+'.txt', sys.stdout)"
   ]
  },
  {
   "cell_type": "markdown",
   "id": "7176cb18",
   "metadata": {},
   "source": [
    "## 96LDPC"
   ]
  },
  {
   "cell_type": "code",
   "execution_count": 4,
   "id": "49a5b491",
   "metadata": {},
   "outputs": [
    {
     "name": "stdout",
     "output_type": "stream",
     "text": [
      "Code:  96 , 48 from ./Logs/1129044603/mat/episode_297step_1reward_8.208328731330102.txt\n",
      "Iteration:  8\n",
      "SNR [1.], ber = 7.32938e-02, bler = 6.67000e-01, block_num = 10000, run_time = 1.70s\n",
      "SNR [2.], ber = 2.93260e-02, bler = 3.18300e-01, block_num = 10000, run_time = 0.28s\n",
      "SNR [3.], ber = 6.66667e-03, bler = 8.31000e-02, block_num = 10000, run_time = 0.26s\n",
      "SNR [4.], ber = 8.51667e-04, bler = 1.21400e-02, block_num = 50000, run_time = 2.21s\n",
      "SNR [5.], ber = 4.55019e-05, bler = 7.60606e-04, block_num = 660000, run_time = 28.51s\n",
      "SNR [6.], ber = 1.71223e-06, bler = 2.80201e-05, block_num = 17880000, run_time = 640.89s\n"
     ]
    },
    {
     "data": {
      "text/plain": [
       "(array([7.32937500e-02, 2.93260417e-02, 6.66666667e-03, 8.51666667e-04,\n",
       "        4.55018939e-05, 1.71222502e-06]),\n",
       " array([6.67000000e-01, 3.18300000e-01, 8.31000000e-02, 1.21400000e-02,\n",
       "        7.60606061e-04, 2.80201342e-05]))"
      ]
     },
     "execution_count": 4,
     "metadata": {},
     "output_type": "execute_result"
    }
   ],
   "source": [
    "n = 96\n",
    "k = 48\n",
    "\n",
    "file_h = './Logs/1129044603/mat/episode_297step_1reward_8.208328731330102.txt'\n",
    "pcm = np.loadtxt(file_h, dtype=np.int32)\n",
    "gnm = pcm2gm(pcm, verify_results=True)\n",
    "\n",
    "num_iter = 8\n",
    "tf.random.set_seed(2)\n",
    "bp_decoder = BP_Decoder(pcm = pcm,\n",
    "                         num_iter = num_iter)\n",
    "e2e_model = E2EModel(gnm, bp_decoder)\n",
    "print('Code: ', n, ',', k, 'from', file_h)\n",
    "print('Iteration: ', num_iter)\n",
    "\n",
    "# test_params = [snr_low, snr_high, max_batch, block_per_batch, num_target_block_errors]\n",
    "test_model_bp(e2e_model, [1.0, 6.0, 10000, 10000, 500])"
   ]
  },
  {
   "cell_type": "code",
   "execution_count": 2,
   "id": "54f5a741",
   "metadata": {},
   "outputs": [
    {
     "name": "stdout",
     "output_type": "stream",
     "text": [
      "Code:  96 , 48 from ./Logs/1129044603/mat/episode_10step_1reward_8.287184590953462.txt\n",
      "Iteration:  8\n",
      "SNR [1.], ber = 6.97750e-02, bler = 6.53500e-01, block_num = 10000, run_time = 2.35s\n",
      "SNR [2.], ber = 2.68250e-02, bler = 3.00400e-01, block_num = 10000, run_time = 0.25s\n",
      "SNR [3.], ber = 6.22500e-03, bler = 8.17000e-02, block_num = 10000, run_time = 0.24s\n",
      "SNR [4.], ber = 7.04583e-04, bler = 1.10600e-02, block_num = 50000, run_time = 1.20s\n",
      "SNR [5.], ber = 4.12224e-05, bler = 7.41176e-04, block_num = 680000, run_time = 26.79s\n",
      "SNR [6.], ber = 1.26788e-06, bler = 2.59049e-05, block_num = 19340000, run_time = 607.21s\n"
     ]
    },
    {
     "data": {
      "text/plain": [
       "(array([6.97750000e-02, 2.68250000e-02, 6.22500000e-03, 7.04583333e-04,\n",
       "        4.12224265e-05, 1.26788176e-06]),\n",
       " array([6.53500000e-01, 3.00400000e-01, 8.17000000e-02, 1.10600000e-02,\n",
       "        7.41176471e-04, 2.59048604e-05]))"
      ]
     },
     "execution_count": 2,
     "metadata": {},
     "output_type": "execute_result"
    }
   ],
   "source": [
    "n = 96\n",
    "k = 48\n",
    "\n",
    "file_h = './Logs/1129044603/mat/episode_10step_1reward_8.287184590953462.txt'\n",
    "pcm = np.loadtxt(file_h, dtype=np.int32)\n",
    "gnm = pcm2gm(pcm, verify_results=True)\n",
    "\n",
    "num_iter = 8\n",
    "tf.random.set_seed(2)\n",
    "bp_decoder = BP_Decoder(pcm = pcm,\n",
    "                         num_iter = num_iter)\n",
    "e2e_model = E2EModel(gnm, bp_decoder)\n",
    "print('Code: ', n, ',', k, 'from', file_h)\n",
    "print('Iteration: ', num_iter)\n",
    "\n",
    "# test_params = [snr_low, snr_high, max_batch, block_per_batch, num_target_block_errors]\n",
    "test_model_bp(e2e_model, [1.0, 6.0, 10000, 10000, 500])"
   ]
  },
  {
   "cell_type": "code",
   "execution_count": 2,
   "id": "8a911d66",
   "metadata": {},
   "outputs": [
    {
     "name": "stdout",
     "output_type": "stream",
     "text": [
      "Code:  96 , 48 from ./Matrix/LDPC_96_48_chk.txt\n",
      "Iteration:  8\n",
      "SNR [1.], ber = 7.65646e-02, bler = 6.86500e-01, block_num = 10000, run_time = 1.96s\n",
      "SNR [2.], ber = 3.12771e-02, bler = 3.31000e-01, block_num = 10000, run_time = 0.22s\n",
      "SNR [3.], ber = 6.84792e-03, bler = 8.34000e-02, block_num = 10000, run_time = 0.22s\n",
      "SNR [4.], ber = 9.19010e-04, bler = 1.31500e-02, block_num = 40000, run_time = 0.86s\n",
      "SNR [5.], ber = 5.60185e-05, bler = 9.27778e-04, block_num = 540000, run_time = 11.77s\n",
      "SNR [6.], ber = 1.82400e-06, bler = 2.99104e-05, block_num = 16750000, run_time = 364.32s\n"
     ]
    },
    {
     "ename": "KeyboardInterrupt",
     "evalue": "",
     "output_type": "error",
     "traceback": [
      "\u001b[0;31m---------------------------------------------------------------------------\u001b[0m",
      "\u001b[0;31mKeyboardInterrupt\u001b[0m                         Traceback (most recent call last)",
      "\u001b[0;32m<ipython-input-2-6285fb717c39>\u001b[0m in \u001b[0;36m<module>\u001b[0;34m\u001b[0m\n\u001b[1;32m     15\u001b[0m \u001b[0;34m\u001b[0m\u001b[0m\n\u001b[1;32m     16\u001b[0m \u001b[0;31m# test_params = [snr_low, snr_high, max_batch, block_per_batch, num_target_block_errors]\u001b[0m\u001b[0;34m\u001b[0m\u001b[0;34m\u001b[0m\u001b[0;34m\u001b[0m\u001b[0m\n\u001b[0;32m---> 17\u001b[0;31m \u001b[0mtest_model_bp\u001b[0m\u001b[0;34m(\u001b[0m\u001b[0me2e_model\u001b[0m\u001b[0;34m,\u001b[0m \u001b[0;34m[\u001b[0m\u001b[0;36m1.0\u001b[0m\u001b[0;34m,\u001b[0m \u001b[0;36m8.0\u001b[0m\u001b[0;34m,\u001b[0m \u001b[0;36m10000\u001b[0m\u001b[0;34m,\u001b[0m \u001b[0;36m10000\u001b[0m\u001b[0;34m,\u001b[0m \u001b[0;36m500\u001b[0m\u001b[0;34m]\u001b[0m\u001b[0;34m)\u001b[0m\u001b[0;34m\u001b[0m\u001b[0;34m\u001b[0m\u001b[0m\n\u001b[0m",
      "\u001b[0;32m~/DRL_32_LAST/bp_7.py\u001b[0m in \u001b[0;36mtest_model_bp\u001b[0;34m(model, params)\u001b[0m\n\u001b[1;32m    231\u001b[0m     \u001b[0mnum_batch\u001b[0m \u001b[0;34m=\u001b[0m \u001b[0;36m0\u001b[0m\u001b[0;34m\u001b[0m\u001b[0;34m\u001b[0m\u001b[0m\n\u001b[1;32m    232\u001b[0m     \u001b[0;32mfor\u001b[0m \u001b[0mii\u001b[0m \u001b[0;32min\u001b[0m \u001b[0mrange\u001b[0m\u001b[0;34m(\u001b[0m\u001b[0mmax_batch\u001b[0m\u001b[0;34m)\u001b[0m\u001b[0;34m:\u001b[0m\u001b[0;34m\u001b[0m\u001b[0;34m\u001b[0m\u001b[0m\n\u001b[0;32m--> 233\u001b[0;31m       \u001b[0mc\u001b[0m\u001b[0;34m,\u001b[0m \u001b[0mllr_hat\u001b[0m \u001b[0;34m=\u001b[0m \u001b[0mmodel\u001b[0m\u001b[0;34m(\u001b[0m\u001b[0mblock_per_batch\u001b[0m\u001b[0;34m,\u001b[0m \u001b[0msnr_dbs\u001b[0m\u001b[0;34m[\u001b[0m\u001b[0mi\u001b[0m\u001b[0;34m]\u001b[0m\u001b[0;34m)\u001b[0m\u001b[0;34m\u001b[0m\u001b[0;34m\u001b[0m\u001b[0m\n\u001b[0m\u001b[1;32m    234\u001b[0m       \u001b[0mc_hat\u001b[0m \u001b[0;34m=\u001b[0m \u001b[0mtf\u001b[0m\u001b[0;34m.\u001b[0m\u001b[0mcast\u001b[0m\u001b[0;34m(\u001b[0m\u001b[0mtf\u001b[0m\u001b[0;34m.\u001b[0m\u001b[0mless\u001b[0m\u001b[0;34m(\u001b[0m\u001b[0mllr_hat\u001b[0m\u001b[0;34m,\u001b[0m \u001b[0;36m0\u001b[0m\u001b[0;34m)\u001b[0m\u001b[0;34m,\u001b[0m \u001b[0mtf\u001b[0m\u001b[0;34m.\u001b[0m\u001b[0mfloat32\u001b[0m\u001b[0;34m)\u001b[0m\u001b[0;34m\u001b[0m\u001b[0;34m\u001b[0m\u001b[0m\n\u001b[1;32m    235\u001b[0m       \u001b[0;31m#tf.print('c_hat', c_hat, summarize = -1)\u001b[0m\u001b[0;34m\u001b[0m\u001b[0;34m\u001b[0m\u001b[0;34m\u001b[0m\u001b[0m\n",
      "\u001b[0;32m~/anaconda3/envs/tensorflow2_latest_p37/lib/python3.7/site-packages/keras/utils/traceback_utils.py\u001b[0m in \u001b[0;36merror_handler\u001b[0;34m(*args, **kwargs)\u001b[0m\n\u001b[1;32m     63\u001b[0m         \u001b[0mfiltered_tb\u001b[0m \u001b[0;34m=\u001b[0m \u001b[0;32mNone\u001b[0m\u001b[0;34m\u001b[0m\u001b[0;34m\u001b[0m\u001b[0m\n\u001b[1;32m     64\u001b[0m         \u001b[0;32mtry\u001b[0m\u001b[0;34m:\u001b[0m\u001b[0;34m\u001b[0m\u001b[0;34m\u001b[0m\u001b[0m\n\u001b[0;32m---> 65\u001b[0;31m             \u001b[0;32mreturn\u001b[0m \u001b[0mfn\u001b[0m\u001b[0;34m(\u001b[0m\u001b[0;34m*\u001b[0m\u001b[0margs\u001b[0m\u001b[0;34m,\u001b[0m \u001b[0;34m**\u001b[0m\u001b[0mkwargs\u001b[0m\u001b[0;34m)\u001b[0m\u001b[0;34m\u001b[0m\u001b[0;34m\u001b[0m\u001b[0m\n\u001b[0m\u001b[1;32m     66\u001b[0m         \u001b[0;32mexcept\u001b[0m \u001b[0mException\u001b[0m \u001b[0;32mas\u001b[0m \u001b[0me\u001b[0m\u001b[0;34m:\u001b[0m\u001b[0;34m\u001b[0m\u001b[0;34m\u001b[0m\u001b[0m\n\u001b[1;32m     67\u001b[0m             \u001b[0mfiltered_tb\u001b[0m \u001b[0;34m=\u001b[0m \u001b[0m_process_traceback_frames\u001b[0m\u001b[0;34m(\u001b[0m\u001b[0me\u001b[0m\u001b[0;34m.\u001b[0m\u001b[0m__traceback__\u001b[0m\u001b[0;34m)\u001b[0m\u001b[0;34m\u001b[0m\u001b[0;34m\u001b[0m\u001b[0m\n",
      "\u001b[0;32m~/anaconda3/envs/tensorflow2_latest_p37/lib/python3.7/site-packages/keras/engine/training.py\u001b[0m in \u001b[0;36m__call__\u001b[0;34m(self, *args, **kwargs)\u001b[0m\n\u001b[1;32m    555\u001b[0m             \u001b[0mlayout_map_lib\u001b[0m\u001b[0;34m.\u001b[0m\u001b[0m_map_subclass_model_variable\u001b[0m\u001b[0;34m(\u001b[0m\u001b[0mself\u001b[0m\u001b[0;34m,\u001b[0m \u001b[0mself\u001b[0m\u001b[0;34m.\u001b[0m\u001b[0m_layout_map\u001b[0m\u001b[0;34m)\u001b[0m\u001b[0;34m\u001b[0m\u001b[0;34m\u001b[0m\u001b[0m\n\u001b[1;32m    556\u001b[0m \u001b[0;34m\u001b[0m\u001b[0m\n\u001b[0;32m--> 557\u001b[0;31m         \u001b[0;32mreturn\u001b[0m \u001b[0msuper\u001b[0m\u001b[0;34m(\u001b[0m\u001b[0;34m)\u001b[0m\u001b[0;34m.\u001b[0m\u001b[0m__call__\u001b[0m\u001b[0;34m(\u001b[0m\u001b[0;34m*\u001b[0m\u001b[0margs\u001b[0m\u001b[0;34m,\u001b[0m \u001b[0;34m**\u001b[0m\u001b[0mkwargs\u001b[0m\u001b[0;34m)\u001b[0m\u001b[0;34m\u001b[0m\u001b[0;34m\u001b[0m\u001b[0m\n\u001b[0m\u001b[1;32m    558\u001b[0m \u001b[0;34m\u001b[0m\u001b[0m\n\u001b[1;32m    559\u001b[0m     \u001b[0;34m@\u001b[0m\u001b[0mdoc_controls\u001b[0m\u001b[0;34m.\u001b[0m\u001b[0mdoc_in_current_and_subclasses\u001b[0m\u001b[0;34m\u001b[0m\u001b[0;34m\u001b[0m\u001b[0m\n",
      "\u001b[0;32m~/anaconda3/envs/tensorflow2_latest_p37/lib/python3.7/site-packages/keras/utils/traceback_utils.py\u001b[0m in \u001b[0;36merror_handler\u001b[0;34m(*args, **kwargs)\u001b[0m\n\u001b[1;32m     63\u001b[0m         \u001b[0mfiltered_tb\u001b[0m \u001b[0;34m=\u001b[0m \u001b[0;32mNone\u001b[0m\u001b[0;34m\u001b[0m\u001b[0;34m\u001b[0m\u001b[0m\n\u001b[1;32m     64\u001b[0m         \u001b[0;32mtry\u001b[0m\u001b[0;34m:\u001b[0m\u001b[0;34m\u001b[0m\u001b[0;34m\u001b[0m\u001b[0m\n\u001b[0;32m---> 65\u001b[0;31m             \u001b[0;32mreturn\u001b[0m \u001b[0mfn\u001b[0m\u001b[0;34m(\u001b[0m\u001b[0;34m*\u001b[0m\u001b[0margs\u001b[0m\u001b[0;34m,\u001b[0m \u001b[0;34m**\u001b[0m\u001b[0mkwargs\u001b[0m\u001b[0;34m)\u001b[0m\u001b[0;34m\u001b[0m\u001b[0;34m\u001b[0m\u001b[0m\n\u001b[0m\u001b[1;32m     66\u001b[0m         \u001b[0;32mexcept\u001b[0m \u001b[0mException\u001b[0m \u001b[0;32mas\u001b[0m \u001b[0me\u001b[0m\u001b[0;34m:\u001b[0m\u001b[0;34m\u001b[0m\u001b[0;34m\u001b[0m\u001b[0m\n\u001b[1;32m     67\u001b[0m             \u001b[0mfiltered_tb\u001b[0m \u001b[0;34m=\u001b[0m \u001b[0m_process_traceback_frames\u001b[0m\u001b[0;34m(\u001b[0m\u001b[0me\u001b[0m\u001b[0;34m.\u001b[0m\u001b[0m__traceback__\u001b[0m\u001b[0;34m)\u001b[0m\u001b[0;34m\u001b[0m\u001b[0;34m\u001b[0m\u001b[0m\n",
      "\u001b[0;32m~/anaconda3/envs/tensorflow2_latest_p37/lib/python3.7/site-packages/keras/engine/base_layer.py\u001b[0m in \u001b[0;36m__call__\u001b[0;34m(self, *args, **kwargs)\u001b[0m\n\u001b[1;32m   1095\u001b[0m                     \u001b[0mself\u001b[0m\u001b[0;34m.\u001b[0m\u001b[0m_compute_dtype_object\u001b[0m\u001b[0;34m\u001b[0m\u001b[0;34m\u001b[0m\u001b[0m\n\u001b[1;32m   1096\u001b[0m                 ):\n\u001b[0;32m-> 1097\u001b[0;31m                     \u001b[0moutputs\u001b[0m \u001b[0;34m=\u001b[0m \u001b[0mcall_fn\u001b[0m\u001b[0;34m(\u001b[0m\u001b[0minputs\u001b[0m\u001b[0;34m,\u001b[0m \u001b[0;34m*\u001b[0m\u001b[0margs\u001b[0m\u001b[0;34m,\u001b[0m \u001b[0;34m**\u001b[0m\u001b[0mkwargs\u001b[0m\u001b[0;34m)\u001b[0m\u001b[0;34m\u001b[0m\u001b[0;34m\u001b[0m\u001b[0m\n\u001b[0m\u001b[1;32m   1098\u001b[0m \u001b[0;34m\u001b[0m\u001b[0m\n\u001b[1;32m   1099\u001b[0m                 \u001b[0;32mif\u001b[0m \u001b[0mself\u001b[0m\u001b[0;34m.\u001b[0m\u001b[0m_activity_regularizer\u001b[0m\u001b[0;34m:\u001b[0m\u001b[0;34m\u001b[0m\u001b[0;34m\u001b[0m\u001b[0m\n",
      "\u001b[0;32m~/anaconda3/envs/tensorflow2_latest_p37/lib/python3.7/site-packages/keras/utils/traceback_utils.py\u001b[0m in \u001b[0;36merror_handler\u001b[0;34m(*args, **kwargs)\u001b[0m\n\u001b[1;32m     94\u001b[0m         \u001b[0mbound_signature\u001b[0m \u001b[0;34m=\u001b[0m \u001b[0;32mNone\u001b[0m\u001b[0;34m\u001b[0m\u001b[0;34m\u001b[0m\u001b[0m\n\u001b[1;32m     95\u001b[0m         \u001b[0;32mtry\u001b[0m\u001b[0;34m:\u001b[0m\u001b[0;34m\u001b[0m\u001b[0;34m\u001b[0m\u001b[0m\n\u001b[0;32m---> 96\u001b[0;31m             \u001b[0;32mreturn\u001b[0m \u001b[0mfn\u001b[0m\u001b[0;34m(\u001b[0m\u001b[0;34m*\u001b[0m\u001b[0margs\u001b[0m\u001b[0;34m,\u001b[0m \u001b[0;34m**\u001b[0m\u001b[0mkwargs\u001b[0m\u001b[0;34m)\u001b[0m\u001b[0;34m\u001b[0m\u001b[0;34m\u001b[0m\u001b[0m\n\u001b[0m\u001b[1;32m     97\u001b[0m         \u001b[0;32mexcept\u001b[0m \u001b[0mException\u001b[0m \u001b[0;32mas\u001b[0m \u001b[0me\u001b[0m\u001b[0;34m:\u001b[0m\u001b[0;34m\u001b[0m\u001b[0;34m\u001b[0m\u001b[0m\n\u001b[1;32m     98\u001b[0m             \u001b[0;32mif\u001b[0m \u001b[0mhasattr\u001b[0m\u001b[0;34m(\u001b[0m\u001b[0me\u001b[0m\u001b[0;34m,\u001b[0m \u001b[0;34m\"_keras_call_info_injected\"\u001b[0m\u001b[0;34m)\u001b[0m\u001b[0;34m:\u001b[0m\u001b[0;34m\u001b[0m\u001b[0;34m\u001b[0m\u001b[0m\n",
      "\u001b[0;32m~/anaconda3/envs/tensorflow2_latest_p37/lib/python3.7/site-packages/tensorflow/python/util/traceback_utils.py\u001b[0m in \u001b[0;36merror_handler\u001b[0;34m(*args, **kwargs)\u001b[0m\n\u001b[1;32m    148\u001b[0m     \u001b[0mfiltered_tb\u001b[0m \u001b[0;34m=\u001b[0m \u001b[0;32mNone\u001b[0m\u001b[0;34m\u001b[0m\u001b[0;34m\u001b[0m\u001b[0m\n\u001b[1;32m    149\u001b[0m     \u001b[0;32mtry\u001b[0m\u001b[0;34m:\u001b[0m\u001b[0;34m\u001b[0m\u001b[0;34m\u001b[0m\u001b[0m\n\u001b[0;32m--> 150\u001b[0;31m       \u001b[0;32mreturn\u001b[0m \u001b[0mfn\u001b[0m\u001b[0;34m(\u001b[0m\u001b[0;34m*\u001b[0m\u001b[0margs\u001b[0m\u001b[0;34m,\u001b[0m \u001b[0;34m**\u001b[0m\u001b[0mkwargs\u001b[0m\u001b[0;34m)\u001b[0m\u001b[0;34m\u001b[0m\u001b[0;34m\u001b[0m\u001b[0m\n\u001b[0m\u001b[1;32m    151\u001b[0m     \u001b[0;32mexcept\u001b[0m \u001b[0mException\u001b[0m \u001b[0;32mas\u001b[0m \u001b[0me\u001b[0m\u001b[0;34m:\u001b[0m\u001b[0;34m\u001b[0m\u001b[0;34m\u001b[0m\u001b[0m\n\u001b[1;32m    152\u001b[0m       \u001b[0mfiltered_tb\u001b[0m \u001b[0;34m=\u001b[0m \u001b[0m_process_traceback_frames\u001b[0m\u001b[0;34m(\u001b[0m\u001b[0me\u001b[0m\u001b[0;34m.\u001b[0m\u001b[0m__traceback__\u001b[0m\u001b[0;34m)\u001b[0m\u001b[0;34m\u001b[0m\u001b[0;34m\u001b[0m\u001b[0m\n",
      "\u001b[0;32m~/anaconda3/envs/tensorflow2_latest_p37/lib/python3.7/site-packages/tensorflow/python/eager/def_function.py\u001b[0m in \u001b[0;36m__call__\u001b[0;34m(self, *args, **kwds)\u001b[0m\n\u001b[1;32m    913\u001b[0m \u001b[0;34m\u001b[0m\u001b[0m\n\u001b[1;32m    914\u001b[0m       \u001b[0;32mwith\u001b[0m \u001b[0mOptionalXlaContext\u001b[0m\u001b[0;34m(\u001b[0m\u001b[0mself\u001b[0m\u001b[0;34m.\u001b[0m\u001b[0m_jit_compile\u001b[0m\u001b[0;34m)\u001b[0m\u001b[0;34m:\u001b[0m\u001b[0;34m\u001b[0m\u001b[0;34m\u001b[0m\u001b[0m\n\u001b[0;32m--> 915\u001b[0;31m         \u001b[0mresult\u001b[0m \u001b[0;34m=\u001b[0m \u001b[0mself\u001b[0m\u001b[0;34m.\u001b[0m\u001b[0m_call\u001b[0m\u001b[0;34m(\u001b[0m\u001b[0;34m*\u001b[0m\u001b[0margs\u001b[0m\u001b[0;34m,\u001b[0m \u001b[0;34m**\u001b[0m\u001b[0mkwds\u001b[0m\u001b[0;34m)\u001b[0m\u001b[0;34m\u001b[0m\u001b[0;34m\u001b[0m\u001b[0m\n\u001b[0m\u001b[1;32m    916\u001b[0m \u001b[0;34m\u001b[0m\u001b[0m\n\u001b[1;32m    917\u001b[0m       \u001b[0mnew_tracing_count\u001b[0m \u001b[0;34m=\u001b[0m \u001b[0mself\u001b[0m\u001b[0;34m.\u001b[0m\u001b[0mexperimental_get_tracing_count\u001b[0m\u001b[0;34m(\u001b[0m\u001b[0;34m)\u001b[0m\u001b[0;34m\u001b[0m\u001b[0;34m\u001b[0m\u001b[0m\n",
      "\u001b[0;32m~/anaconda3/envs/tensorflow2_latest_p37/lib/python3.7/site-packages/tensorflow/python/eager/def_function.py\u001b[0m in \u001b[0;36m_call\u001b[0;34m(self, *args, **kwds)\u001b[0m\n\u001b[1;32m    952\u001b[0m       \u001b[0;31m# In this case we have not created variables on the first call. So we can\u001b[0m\u001b[0;34m\u001b[0m\u001b[0;34m\u001b[0m\u001b[0;34m\u001b[0m\u001b[0m\n\u001b[1;32m    953\u001b[0m       \u001b[0;31m# run the first trace but we should fail if variables are created.\u001b[0m\u001b[0;34m\u001b[0m\u001b[0;34m\u001b[0m\u001b[0;34m\u001b[0m\u001b[0m\n\u001b[0;32m--> 954\u001b[0;31m       \u001b[0mresults\u001b[0m \u001b[0;34m=\u001b[0m \u001b[0mself\u001b[0m\u001b[0;34m.\u001b[0m\u001b[0m_stateful_fn\u001b[0m\u001b[0;34m(\u001b[0m\u001b[0;34m*\u001b[0m\u001b[0margs\u001b[0m\u001b[0;34m,\u001b[0m \u001b[0;34m**\u001b[0m\u001b[0mkwds\u001b[0m\u001b[0;34m)\u001b[0m\u001b[0;34m\u001b[0m\u001b[0;34m\u001b[0m\u001b[0m\n\u001b[0m\u001b[1;32m    955\u001b[0m       \u001b[0;32mif\u001b[0m \u001b[0mself\u001b[0m\u001b[0;34m.\u001b[0m\u001b[0m_created_variables\u001b[0m \u001b[0;32mand\u001b[0m \u001b[0;32mnot\u001b[0m \u001b[0mALLOW_DYNAMIC_VARIABLE_CREATION\u001b[0m\u001b[0;34m:\u001b[0m\u001b[0;34m\u001b[0m\u001b[0;34m\u001b[0m\u001b[0m\n\u001b[1;32m    956\u001b[0m         raise ValueError(\"Creating variables on a non-first call to a function\"\n",
      "\u001b[0;32m~/anaconda3/envs/tensorflow2_latest_p37/lib/python3.7/site-packages/tensorflow/python/eager/function.py\u001b[0m in \u001b[0;36m__call__\u001b[0;34m(self, *args, **kwargs)\u001b[0m\n\u001b[1;32m   2495\u001b[0m        filtered_flat_args) = self._maybe_define_function(args, kwargs)\n\u001b[1;32m   2496\u001b[0m     return graph_function._call_flat(\n\u001b[0;32m-> 2497\u001b[0;31m         filtered_flat_args, captured_inputs=graph_function.captured_inputs)  # pylint: disable=protected-access\n\u001b[0m\u001b[1;32m   2498\u001b[0m \u001b[0;34m\u001b[0m\u001b[0m\n\u001b[1;32m   2499\u001b[0m   \u001b[0;34m@\u001b[0m\u001b[0mproperty\u001b[0m\u001b[0;34m\u001b[0m\u001b[0;34m\u001b[0m\u001b[0m\n",
      "\u001b[0;32m~/anaconda3/envs/tensorflow2_latest_p37/lib/python3.7/site-packages/tensorflow/python/eager/function.py\u001b[0m in \u001b[0;36m_call_flat\u001b[0;34m(self, args, captured_inputs, cancellation_manager)\u001b[0m\n\u001b[1;32m   1861\u001b[0m       \u001b[0;31m# No tape is watching; skip to running the function.\u001b[0m\u001b[0;34m\u001b[0m\u001b[0;34m\u001b[0m\u001b[0;34m\u001b[0m\u001b[0m\n\u001b[1;32m   1862\u001b[0m       return self._build_call_outputs(self._inference_function.call(\n\u001b[0;32m-> 1863\u001b[0;31m           ctx, args, cancellation_manager=cancellation_manager))\n\u001b[0m\u001b[1;32m   1864\u001b[0m     forward_backward = self._select_forward_and_backward_functions(\n\u001b[1;32m   1865\u001b[0m         \u001b[0margs\u001b[0m\u001b[0;34m,\u001b[0m\u001b[0;34m\u001b[0m\u001b[0;34m\u001b[0m\u001b[0m\n",
      "\u001b[0;32m~/anaconda3/envs/tensorflow2_latest_p37/lib/python3.7/site-packages/tensorflow/python/eager/function.py\u001b[0m in \u001b[0;36mcall\u001b[0;34m(self, ctx, args, cancellation_manager)\u001b[0m\n\u001b[1;32m    502\u001b[0m               \u001b[0minputs\u001b[0m\u001b[0;34m=\u001b[0m\u001b[0margs\u001b[0m\u001b[0;34m,\u001b[0m\u001b[0;34m\u001b[0m\u001b[0;34m\u001b[0m\u001b[0m\n\u001b[1;32m    503\u001b[0m               \u001b[0mattrs\u001b[0m\u001b[0;34m=\u001b[0m\u001b[0mattrs\u001b[0m\u001b[0;34m,\u001b[0m\u001b[0;34m\u001b[0m\u001b[0;34m\u001b[0m\u001b[0m\n\u001b[0;32m--> 504\u001b[0;31m               ctx=ctx)\n\u001b[0m\u001b[1;32m    505\u001b[0m         \u001b[0;32melse\u001b[0m\u001b[0;34m:\u001b[0m\u001b[0;34m\u001b[0m\u001b[0;34m\u001b[0m\u001b[0m\n\u001b[1;32m    506\u001b[0m           outputs = execute.execute_with_cancellation(\n",
      "\u001b[0;32m~/anaconda3/envs/tensorflow2_latest_p37/lib/python3.7/site-packages/tensorflow/python/eager/execute.py\u001b[0m in \u001b[0;36mquick_execute\u001b[0;34m(op_name, num_outputs, inputs, attrs, ctx, name)\u001b[0m\n\u001b[1;32m     53\u001b[0m     \u001b[0mctx\u001b[0m\u001b[0;34m.\u001b[0m\u001b[0mensure_initialized\u001b[0m\u001b[0;34m(\u001b[0m\u001b[0;34m)\u001b[0m\u001b[0;34m\u001b[0m\u001b[0;34m\u001b[0m\u001b[0m\n\u001b[1;32m     54\u001b[0m     tensors = pywrap_tfe.TFE_Py_Execute(ctx._handle, device_name, op_name,\n\u001b[0;32m---> 55\u001b[0;31m                                         inputs, attrs, num_outputs)\n\u001b[0m\u001b[1;32m     56\u001b[0m   \u001b[0;32mexcept\u001b[0m \u001b[0mcore\u001b[0m\u001b[0;34m.\u001b[0m\u001b[0m_NotOkStatusException\u001b[0m \u001b[0;32mas\u001b[0m \u001b[0me\u001b[0m\u001b[0;34m:\u001b[0m\u001b[0;34m\u001b[0m\u001b[0;34m\u001b[0m\u001b[0m\n\u001b[1;32m     57\u001b[0m     \u001b[0;32mif\u001b[0m \u001b[0mname\u001b[0m \u001b[0;32mis\u001b[0m \u001b[0;32mnot\u001b[0m \u001b[0;32mNone\u001b[0m\u001b[0;34m:\u001b[0m\u001b[0;34m\u001b[0m\u001b[0;34m\u001b[0m\u001b[0m\n",
      "\u001b[0;31mKeyboardInterrupt\u001b[0m: "
     ]
    }
   ],
   "source": [
    "n = 96\n",
    "k = 48\n",
    "\n",
    "file_h = './Matrix/LDPC_96_48_chk.txt'\n",
    "pcm = np.loadtxt(file_h, dtype=np.int32)\n",
    "gnm = pcm2gm(pcm, verify_results=True)\n",
    "\n",
    "num_iter = 8\n",
    "tf.random.set_seed(2)\n",
    "bp_decoder = BP_Decoder(pcm = pcm,\n",
    "                         num_iter = num_iter)\n",
    "e2e_model = E2EModel(gnm, bp_decoder)\n",
    "print('Code: ', n, ',', k, 'from', file_h)\n",
    "print('Iteration: ', num_iter)\n",
    "\n",
    "# test_params = [snr_low, snr_high, max_batch, block_per_batch, num_target_block_errors]\n",
    "test_model_bp(e2e_model, [1.0, 6.0, 10000, 10000, 500])"
   ]
  },
  {
   "cell_type": "markdown",
   "id": "773c1aec",
   "metadata": {},
   "source": [
    "## DRL Code - BCH Iter 2"
   ]
  },
  {
   "cell_type": "code",
   "execution_count": 4,
   "id": "b321b384",
   "metadata": {},
   "outputs": [
    {
     "name": "stdout",
     "output_type": "stream",
     "text": [
      "Code:  63 , 45 from ./Logs/1109051227/mat/episode_453step_1reward_11.324031767471412.txt\n",
      "Iteration:  8\n",
      "SNR [1.], ber = 7.95683e-02, bler = 8.67400e-01, block_num = 10000, run_time = 1.44s\n",
      "SNR [2.], ber = 4.46651e-02, bler = 5.82100e-01, block_num = 10000, run_time = 0.06s\n",
      "SNR [3.], ber = 1.82349e-02, bler = 2.64000e-01, block_num = 10000, run_time = 0.06s\n",
      "SNR [4.], ber = 4.86508e-03, bler = 7.74000e-02, block_num = 10000, run_time = 0.06s\n",
      "SNR [5.], ber = 9.09524e-04, bler = 1.56750e-02, block_num = 40000, run_time = 0.22s\n",
      "SNR [6.], ber = 1.00454e-04, bler = 1.82857e-03, block_num = 280000, run_time = 1.54s\n",
      "SNR [7.], ber = 6.63984e-06, bler = 1.41127e-04, block_num = 3550000, run_time = 19.36s\n",
      "SNR [8.], ber = 3.97385e-07, bler = 8.83286e-06, block_num = 56720000, run_time = 308.41s\n"
     ]
    },
    {
     "data": {
      "text/plain": [
       "(array([7.95682540e-02, 4.46650794e-02, 1.82349206e-02, 4.86507937e-03,\n",
       "        9.09523810e-04, 1.00453515e-04, 6.63983903e-06, 3.97385094e-07]),\n",
       " array([8.67400000e-01, 5.82100000e-01, 2.64000000e-01, 7.74000000e-02,\n",
       "        1.56750000e-02, 1.82857143e-03, 1.41126761e-04, 8.83286319e-06]))"
      ]
     },
     "execution_count": 4,
     "metadata": {},
     "output_type": "execute_result"
    }
   ],
   "source": [
    "n = 63\n",
    "k = 45\n",
    "\n",
    "file_h = './Logs/1109051227/mat/episode_453step_1reward_11.324031767471412.txt'\n",
    "pcm = np.loadtxt(file_h, dtype=np.int32)\n",
    "gnm = pcm2gm(pcm, verify_results=True)\n",
    "\n",
    "num_iter = 8\n",
    "tf.random.set_seed(2)\n",
    "bp_decoder = BP_Decoder(pcm = pcm,\n",
    "                         num_iter = num_iter)\n",
    "e2e_model = E2EModel(gnm, bp_decoder)\n",
    "print('Code: ', n, ',', k, 'from', file_h)\n",
    "print('Iteration: ', num_iter)\n",
    "\n",
    "# test_params = [snr_low, snr_high, max_batch, block_per_batch, num_target_block_errors]\n",
    "test_model_bp(e2e_model, [1.0, 8.0, 10000, 10000, 500])"
   ]
  },
  {
   "cell_type": "markdown",
   "id": "4e466ed0",
   "metadata": {},
   "source": [
    "## DRL Code - BCH Iter 1"
   ]
  },
  {
   "cell_type": "code",
   "execution_count": 8,
   "id": "6c53ba70",
   "metadata": {},
   "outputs": [
    {
     "name": "stdout",
     "output_type": "stream",
     "text": [
      "Code:  63 , 45 from ./Logs/1107234737/mat/episode_263step_1reward_10.27523168902498.txt\n",
      "Iteration:  8\n",
      "SNR [1.], ber = 7.74587e-02, bler = 8.55200e-01, block_num = 10000, run_time = 1.43s\n",
      "SNR [2.], ber = 4.24857e-02, bler = 5.56800e-01, block_num = 10000, run_time = 0.07s\n",
      "SNR [3.], ber = 1.68524e-02, bler = 2.49000e-01, block_num = 10000, run_time = 0.06s\n",
      "SNR [4.], ber = 4.52698e-03, bler = 7.31000e-02, block_num = 10000, run_time = 0.06s\n",
      "SNR [5.], ber = 7.63095e-04, bler = 1.43500e-02, block_num = 40000, run_time = 0.21s\n",
      "SNR [6.], ber = 9.81481e-05, bler = 2.11667e-03, block_num = 240000, run_time = 1.16s\n",
      "SNR [7.], ber = 9.49328e-06, bler = 2.40865e-04, block_num = 2080000, run_time = 9.96s\n",
      "SNR [8.], ber = 9.30753e-07, bler = 2.44282e-05, block_num = 20550000, run_time = 98.26s\n"
     ]
    },
    {
     "data": {
      "text/plain": [
       "(array([7.74587302e-02, 4.24857143e-02, 1.68523810e-02, 4.52698413e-03,\n",
       "        7.63095238e-04, 9.81481481e-05, 9.49328449e-06, 9.30753485e-07]),\n",
       " array([8.55200000e-01, 5.56800000e-01, 2.49000000e-01, 7.31000000e-02,\n",
       "        1.43500000e-02, 2.11666667e-03, 2.40865385e-04, 2.44282238e-05]))"
      ]
     },
     "execution_count": 8,
     "metadata": {},
     "output_type": "execute_result"
    }
   ],
   "source": [
    "n = 63\n",
    "k = 45\n",
    "\n",
    "file_h = './Logs/1107234737/mat/episode_263step_1reward_10.27523168902498.txt'\n",
    "pcm = np.loadtxt(file_h, dtype=np.int32)\n",
    "gnm = pcm2gm(pcm, verify_results=True)\n",
    "\n",
    "num_iter = 8\n",
    "tf.random.set_seed(2)\n",
    "bp_decoder = BP_Decoder(pcm = pcm,\n",
    "                         num_iter = num_iter)\n",
    "e2e_model = E2EModel(gnm, bp_decoder)\n",
    "print('Code: ', n, ',', k, 'from', file_h)\n",
    "print('Iteration: ', num_iter)\n",
    "\n",
    "# test_params = [snr_low, snr_high, max_batch, block_per_batch, num_target_block_errors]\n",
    "test_model_bp(e2e_model, [1.0, 8.0, 10000, 10000, 500])"
   ]
  },
  {
   "cell_type": "code",
   "execution_count": 3,
   "id": "a59eecaf",
   "metadata": {},
   "outputs": [
    {
     "name": "stdout",
     "output_type": "stream",
     "text": [
      "Code:  63 , 45 from ./Matrix/BCH_63_45_chk.txt\n",
      "Iteration:  8\n",
      "SNR [1.], ber = 8.90841e-02, bler = 9.69900e-01, block_num = 10000, run_time = 2.74s\n",
      "SNR [2.], ber = 6.03143e-02, bler = 8.16800e-01, block_num = 10000, run_time = 0.19s\n",
      "SNR [3.], ber = 3.36365e-02, bler = 5.20100e-01, block_num = 10000, run_time = 0.22s\n",
      "SNR [4.], ber = 1.47968e-02, bler = 2.36800e-01, block_num = 10000, run_time = 0.21s\n",
      "SNR [5.], ber = 5.55238e-03, bler = 8.32000e-02, block_num = 10000, run_time = 0.18s\n",
      "SNR [6.], ber = 1.52063e-03, bler = 2.23333e-02, block_num = 30000, run_time = 0.49s\n",
      "SNR [7.], ber = 2.77778e-04, bler = 4.28333e-03, block_num = 120000, run_time = 1.87s\n",
      "SNR [8.], ber = 4.44841e-05, bler = 6.38750e-04, block_num = 800000, run_time = 11.97s\n"
     ]
    },
    {
     "data": {
      "text/plain": [
       "(array([8.90841270e-02, 6.03142857e-02, 3.36365079e-02, 1.47968254e-02,\n",
       "        5.55238095e-03, 1.52063492e-03, 2.77777778e-04, 4.44841270e-05]),\n",
       " array([9.69900000e-01, 8.16800000e-01, 5.20100000e-01, 2.36800000e-01,\n",
       "        8.32000000e-02, 2.23333333e-02, 4.28333333e-03, 6.38750000e-04]))"
      ]
     },
     "execution_count": 3,
     "metadata": {},
     "output_type": "execute_result"
    }
   ],
   "source": [
    "n = 63\n",
    "k = 45\n",
    "\n",
    "file_h = './Matrix/BCH_63_45_chk.txt'\n",
    "pcm = np.loadtxt(file_h, dtype=np.int32)\n",
    "gnm = pcm2gm(pcm, verify_results=True)\n",
    "\n",
    "num_iter = 8\n",
    "tf.random.set_seed(2)\n",
    "bp_decoder = BP_Decoder(pcm = pcm,\n",
    "                         num_iter = num_iter)\n",
    "e2e_model = E2EModel(gnm, bp_decoder)\n",
    "print('Code: ', n, ',', k, 'from', file_h)\n",
    "print('Iteration: ', num_iter)\n",
    "\n",
    "# test_params = [snr_low, snr_high, max_batch, block_per_batch, num_target_block_errors]\n",
    "test_model_bp(e2e_model, [1.0, 8.0, 10000, 10000, 500])"
   ]
  },
  {
   "cell_type": "markdown",
   "id": "de0487ae",
   "metadata": {},
   "source": [
    "## DRL Code - Iter 3"
   ]
  },
  {
   "cell_type": "code",
   "execution_count": null,
   "id": "20cb6003",
   "metadata": {},
   "outputs": [],
   "source": [
    "n = 32\n",
    "k = 16\n",
    "\n",
    "file_h = './Logs/1106074917/mat/episode_178step_1reward_10.555698805138144.txt'\n",
    "pcm = np.loadtxt(file_h, dtype=np.int32)\n",
    "gnm = pcm2gm(pcm, verify_results=True)\n",
    "\n",
    "num_iter = 8\n",
    "tf.random.set_seed(2)\n",
    "bp_decoder = BP_Decoder(pcm = pcm,\n",
    "                         num_iter = num_iter)\n",
    "e2e_model = E2EModel(gnm, bp_decoder)\n",
    "print('Code: ', n, ',', k, 'from', file_h)\n",
    "print('Iteration: ', num_iter)\n",
    "\n",
    "# test_params = [snr_low, snr_high, max_batch, block_per_batch, num_target_block_errors]\n",
    "test_model_bp(e2e_model, [1.0, 8.0, 10000, 10000, 500])"
   ]
  },
  {
   "cell_type": "code",
   "execution_count": null,
   "id": "11d0990f",
   "metadata": {},
   "outputs": [],
   "source": [
    "n = 32\n",
    "k = 16\n",
    "\n",
    "file_h = './Logs/1106074917/mat/episode_178step_1reward_10.555698805138144.txt'\n",
    "pcm = np.loadtxt(file_h, dtype=np.int32)\n",
    "gnm = pcm2gm(pcm, verify_results=True)\n",
    "\n",
    "num_iter = 30\n",
    "tf.random.set_seed(2)\n",
    "bp_decoder = BP_Decoder(pcm = pcm,\n",
    "                         num_iter = num_iter)\n",
    "e2e_model = E2EModel(gnm, bp_decoder)\n",
    "print('Code: ', n, ',', k, 'from', file_h)\n",
    "print('Iteration: ', num_iter)\n",
    "\n",
    "# test_params = [snr_low, snr_high, max_batch, block_per_batch, num_target_block_errors]\n",
    "test_model_bp(e2e_model, [1.0, 8.0, 10000, 10000, 500])"
   ]
  },
  {
   "cell_type": "code",
   "execution_count": null,
   "id": "cf7c5bc1",
   "metadata": {},
   "outputs": [],
   "source": [
    "n = 32\n",
    "k = 16\n",
    "\n",
    "file_h = './Logs/1106074917/mat/episode_178step_1reward_10.555698805138144.txt'\n",
    "pcm = np.loadtxt(file_h, dtype=np.int32)\n",
    "gnm = pcm2gm(pcm, verify_results=True)\n",
    "\n",
    "num_iter = 50\n",
    "tf.random.set_seed(2)\n",
    "bp_decoder = BP_Decoder(pcm = pcm,\n",
    "                         num_iter = num_iter)\n",
    "e2e_model = E2EModel(gnm, bp_decoder)\n",
    "print('Code: ', n, ',', k, 'from', file_h)\n",
    "print('Iteration: ', num_iter)\n",
    "\n",
    "# test_params = [snr_low, snr_high, max_batch, block_per_batch, num_target_block_errors]\n",
    "test_model_bp(e2e_model, [1.0, 8.0, 10000, 10000, 500])"
   ]
  },
  {
   "cell_type": "markdown",
   "id": "7b52713d",
   "metadata": {},
   "source": [
    "## DRL Codes - Iter 1"
   ]
  },
  {
   "cell_type": "code",
   "execution_count": null,
   "id": "64ce8188",
   "metadata": {},
   "outputs": [],
   "source": [
    "n = 32\n",
    "k = 16\n",
    "\n",
    "file_h = './Logs/1027041248/mat/episode_93step_0reward_9.493517355730951.txt'\n",
    "pcm = np.loadtxt(file_h, dtype=np.int32)\n",
    "gnm = pcm2gm(pcm, verify_results=True)\n",
    "\n",
    "num_iter = 8\n",
    "tf.random.set_seed(2)\n",
    "bp_decoder = BP_Decoder(pcm = pcm,\n",
    "                         num_iter = num_iter)\n",
    "e2e_model = E2EModel(gnm, bp_decoder)\n",
    "print('Code: ', n, ',', k, 'from', file_h)\n",
    "print('Iteration: ', num_iter)\n",
    "\n",
    "# test_params = [snr_low, snr_high, max_batch, block_per_batch, num_target_block_errors]\n",
    "test_model_bp(e2e_model, [1.0, 8.0, 10000, 10000, 500])"
   ]
  },
  {
   "cell_type": "code",
   "execution_count": null,
   "id": "8a1b234f",
   "metadata": {},
   "outputs": [],
   "source": [
    "n = 32\n",
    "k = 16\n",
    "\n",
    "file_h = './Logs/1027041248/mat/episode_93step_0reward_9.493517355730951.txt'\n",
    "pcm = np.loadtxt(file_h, dtype=np.int32)\n",
    "gnm = pcm2gm(pcm, verify_results=True)\n",
    "\n",
    "num_iter = 30\n",
    "tf.random.set_seed(2)\n",
    "bp_decoder = BP_Decoder(pcm = pcm,\n",
    "                         num_iter = num_iter)\n",
    "e2e_model = E2EModel(gnm, bp_decoder)\n",
    "print('Code: ', n, ',', k, 'from', file_h)\n",
    "print('Iteration: ', num_iter)\n",
    "\n",
    "# test_params = [snr_low, snr_high, max_batch, block_per_batch, num_target_block_errors]\n",
    "test_model_bp(e2e_model, [1.0, 8.0, 10000, 10000, 500])"
   ]
  },
  {
   "cell_type": "code",
   "execution_count": null,
   "id": "745c508f",
   "metadata": {},
   "outputs": [],
   "source": [
    "n = 32\n",
    "k = 16\n",
    "\n",
    "file_h = './Logs/1027041248/mat/episode_88step_0reward_9.604011982945474.txt'\n",
    "pcm = np.loadtxt(file_h, dtype=np.int32)\n",
    "gnm = pcm2gm(pcm, verify_results=True)\n",
    "\n",
    "num_iter = 8\n",
    "tf.random.set_seed(2)\n",
    "bp_decoder = BP_Decoder(pcm = pcm,\n",
    "                         num_iter = num_iter)\n",
    "e2e_model = E2EModel(gnm, bp_decoder)\n",
    "print('Code: ', n, ',', k, 'from', file_h)\n",
    "print('Iteration: ', num_iter)\n",
    "\n",
    "# test_params = [snr_low, snr_high, max_batch, block_per_batch, num_target_block_errors]\n",
    "test_model_bp(e2e_model, [1.0, 8.0, 10000, 10000, 500])"
   ]
  },
  {
   "cell_type": "code",
   "execution_count": null,
   "id": "d2ea19f4",
   "metadata": {},
   "outputs": [],
   "source": [
    "n = 32\n",
    "k = 16\n",
    "\n",
    "file_h = './Logs/1027041248/mat/episode_88step_0reward_9.604011982945474.txt'\n",
    "pcm = np.loadtxt(file_h, dtype=np.int32)\n",
    "gnm = pcm2gm(pcm, verify_results=True)\n",
    "\n",
    "num_iter = 30\n",
    "tf.random.set_seed(2)\n",
    "bp_decoder = BP_Decoder(pcm = pcm,\n",
    "                         num_iter = num_iter)\n",
    "e2e_model = E2EModel(gnm, bp_decoder)\n",
    "print('Code: ', n, ',', k, 'from', file_h)\n",
    "print('Iteration: ', num_iter)\n",
    "\n",
    "# test_params = [snr_low, snr_high, max_batch, block_per_batch, num_target_block_errors]\n",
    "test_model_bp(e2e_model, [1.0, 8.0, 10000, 10000, 500])"
   ]
  },
  {
   "cell_type": "code",
   "execution_count": null,
   "id": "84cb9b9b",
   "metadata": {},
   "outputs": [],
   "source": [
    "n = 32\n",
    "k = 16\n",
    "\n",
    "file_h = './Logs/1027041248/mat/episode_50step_1reward_9.4140517057528.txt'\n",
    "pcm = np.loadtxt(file_h, dtype=np.int32)\n",
    "gnm = pcm2gm(pcm, verify_results=True)\n",
    "\n",
    "num_iter = 8\n",
    "tf.random.set_seed(2)\n",
    "bp_decoder = BP_Decoder(pcm = pcm,\n",
    "                         num_iter = num_iter)\n",
    "e2e_model = E2EModel(gnm, bp_decoder)\n",
    "print('Code: ', n, ',', k, 'from', file_h)\n",
    "print('Iteration: ', num_iter)\n",
    "\n",
    "# test_params = [snr_low, snr_high, max_batch, block_per_batch, num_target_block_errors]\n",
    "test_model_bp(e2e_model, [1.0, 8.0, 10000, 10000, 500])"
   ]
  },
  {
   "cell_type": "code",
   "execution_count": null,
   "id": "faf8cd40",
   "metadata": {},
   "outputs": [],
   "source": [
    "n = 32\n",
    "k = 16\n",
    "\n",
    "file_h = './Logs/1027041248/mat/episode_50step_1reward_9.4140517057528.txt'\n",
    "pcm = np.loadtxt(file_h, dtype=np.int32)\n",
    "gnm = pcm2gm(pcm, verify_results=True)\n",
    "\n",
    "num_iter = 30\n",
    "tf.random.set_seed(2)\n",
    "bp_decoder = BP_Decoder(pcm = pcm,\n",
    "                         num_iter = num_iter)\n",
    "e2e_model = E2EModel(gnm, bp_decoder)\n",
    "print('Code: ', n, ',', k, 'from', file_h)\n",
    "print('Iteration: ', num_iter)\n",
    "\n",
    "# test_params = [snr_low, snr_high, max_batch, block_per_batch, num_target_block_errors]\n",
    "test_model_bp(e2e_model, [1.0, 8.0, 10000, 10000, 500])"
   ]
  },
  {
   "cell_type": "code",
   "execution_count": null,
   "id": "initial_id",
   "metadata": {
    "ExecuteTime": {
     "end_time": "2023-10-27T03:50:02.636272900Z",
     "start_time": "2023-10-27T03:50:02.636050800Z"
    }
   },
   "outputs": [],
   "source": [
    "n = 32\n",
    "k = 16\n",
    "\n",
    "file_h = './Logs/1027041248/mat/episode_51step_0reward_9.516821236790413.txt'\n",
    "pcm = np.loadtxt(file_h, dtype=np.int32)\n",
    "gnm = pcm2gm(pcm, verify_results=True)\n",
    "\n",
    "num_iter = 8\n",
    "tf.random.set_seed(2)\n",
    "bp_decoder = BP_Decoder(pcm = pcm,\n",
    "                         num_iter = num_iter)\n",
    "e2e_model = E2EModel(gnm, bp_decoder)\n",
    "print('Code: ', n, ',', k, 'from', file_h)\n",
    "print('Iteration: ', num_iter)\n",
    "\n",
    "# test_params = [snr_low, snr_high, max_batch, block_per_batch, num_target_block_errors]\n",
    "test_model_bp(e2e_model, [1.0, 8.0, 10000, 10000, 500])"
   ]
  },
  {
   "cell_type": "code",
   "execution_count": null,
   "id": "169637b5",
   "metadata": {},
   "outputs": [],
   "source": [
    "n = 32\n",
    "k = 16\n",
    "\n",
    "file_h = './Logs/1027041248/mat/episode_51step_0reward_9.516821236790413.txt'\n",
    "pcm = np.loadtxt(file_h, dtype=np.int32)\n",
    "gnm = pcm2gm(pcm, verify_results=True)\n",
    "\n",
    "num_iter = 30\n",
    "tf.random.set_seed(2)\n",
    "bp_decoder = BP_Decoder(pcm = pcm,\n",
    "                         num_iter = num_iter)\n",
    "e2e_model = E2EModel(gnm, bp_decoder)\n",
    "print('Code: ', n, ',', k, 'from', file_h)\n",
    "print('Iteration: ', num_iter)\n",
    "\n",
    "# test_params = [snr_low, snr_high, max_batch, block_per_batch, num_target_block_errors]\n",
    "test_model_bp(e2e_model, [1.0, 8.0, 10000, 10000, 500])"
   ]
  }
 ],
 "metadata": {
  "kernelspec": {
   "display_name": "Environment (conda_tensorflow2_latest_p37)",
   "language": "python",
   "name": "conda_tensorflow2_latest_p37"
  },
  "language_info": {
   "codemirror_mode": {
    "name": "ipython",
    "version": 3
   },
   "file_extension": ".py",
   "mimetype": "text/x-python",
   "name": "python",
   "nbconvert_exporter": "python",
   "pygments_lexer": "ipython3",
   "version": "3.7.10"
  }
 },
 "nbformat": 4,
 "nbformat_minor": 5
}
