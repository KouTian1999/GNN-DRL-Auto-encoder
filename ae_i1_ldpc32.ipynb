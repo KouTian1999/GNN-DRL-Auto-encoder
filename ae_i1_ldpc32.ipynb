{
 "cells": [
  {
   "cell_type": "code",
   "execution_count": null,
   "id": "a23e91c1",
   "metadata": {},
   "outputs": [],
   "source": [
    "from buffer import ReplayBuffer\n",
    "from env import PCMEnv\n",
    "from ddpg_colab import DDPG\n",
    "from model import ActorGnn, CriticGNN\n",
    "from noise import GreedyGaussianNoise\n",
    "from utils import Logger\n",
    "import matplotlib.pyplot as plt\n",
    "import numpy as np\n",
    "import os\n",
    "import time\n",
    "import sys"
   ]
  },
  {
   "cell_type": "code",
   "execution_count": null,
   "id": "4f9aa606",
   "metadata": {},
   "outputs": [],
   "source": [
    "# matrix\n",
    "m = 16\n",
    "n = 32\n",
    "\n",
    "# env\n",
    "init = './Matrix/LDPC_32_16_chk.txt'\n",
    "r_func = 'bp_ber6'\n",
    "flip = 0.2\n",
    "# model_fp = './iter1/model_mloss_4'\n",
    "\n",
    "# buffer\n",
    "buffer_size = 50000\n",
    "batch_size = 128\n",
    "\n",
    "# noise\n",
    "exploration = 1.0\n",
    "decay_rate = 0.999\n",
    "min_eps = 0.0\n",
    "mu = 0\n",
    "sigma = 0.1\n",
    "\n",
    "# GNN model\n",
    "emb_num = 10\n",
    "msg_num = 10\n",
    "gnn_layers = 3\n",
    "mlp_layers = 3\n",
    "mlp_units = 40\n",
    "act = 'elu'\n",
    "\n",
    "# DRL model\n",
    "critic_lr = 0.001\n",
    "actor_lr = 0.001\n",
    "gamma = 0.99\n",
    "tau = 0.001\n",
    "\n",
    "# training\n",
    "total_episodes = 1000\n",
    "steps = 25\n",
    "\n",
    "r_bound = 9"
   ]
  },
  {
   "cell_type": "code",
   "execution_count": null,
   "id": "ea52a3f5",
   "metadata": {},
   "outputs": [],
   "source": [
    "time_now = time.strftime('%m%d%H%M%S', time.localtime(time.time()))\n",
    "os.makedirs('./Logs/' + time_now)\n",
    "\n",
    "# log\n",
    "logfile = open('./Logs/' + time_now + '/log.txt', 'a')\n",
    "sys.stdout = Logger('./Logs/' + time_now + '/log.txt', sys.stdout)\n",
    "\n",
    "os.makedirs('./Logs/' + time_now + '/mat', exist_ok=True)\n",
    "os.makedirs('./Logs/' + time_now + '/actor_model', exist_ok=True)\n",
    "os.makedirs('./Logs/' + time_now + '/critic_model', exist_ok=True)\n",
    "os.makedirs('./Logs/' + time_now + '/critic_model', exist_ok=True)"
   ]
  },
  {
   "cell_type": "code",
   "execution_count": null,
   "id": "31659cbd",
   "metadata": {},
   "outputs": [],
   "source": [
    "buffer = ReplayBuffer(buffer_size, batch_size)\n",
    "\n",
    "env = PCMEnv(m, n, init, r_func, flip)\n",
    "\n",
    "noise = GreedyGaussianNoise(exploration, decay_rate, min_eps, mu, sigma)\n",
    "\n",
    "actor = ActorGnn(m, n, emb_num, msg_num, gnn_layers, mlp_layers, mlp_units, act)\n",
    "\n",
    "critic = CriticGNN(m, n, emb_num, msg_num, gnn_layers, mlp_layers, mlp_units, act)\n",
    "\n",
    "actor_target = ActorGnn(m, n, emb_num, msg_num, gnn_layers, mlp_layers, mlp_units, act)\n",
    "\n",
    "critic_target = CriticGNN(m, n, emb_num, msg_num, gnn_layers, mlp_layers, mlp_units, act)\n",
    "\n",
    "drl_model = DDPG(env, buffer, actor, critic, actor_target, critic_target, gamma, tau, actor_lr, critic_lr, time_now)\n",
    "\n",
    "avg_reward_list, max_reward_list, best_pcm_all = drl_model.train(total_episodes, steps, r_bound, noise)\n",
    "\n",
    "np.savetxt('./Logs/' + time_now + '/DRL_64_32_chk_best_r.txt', best_pcm_all, fmt='%s')"
   ]
  },
  {
   "cell_type": "code",
   "execution_count": null,
   "id": "336f704c",
   "metadata": {},
   "outputs": [],
   "source": [
    "plt.plot(avg_reward_list)\n",
    "# plt.plot(final_reward_list)\n",
    "plt.plot(max_reward_list)\n",
    "plt.legend(['Avg. Reward', 'Max Reward'])\n",
    "plt.xlabel(\"Episode\")\n",
    "plt.show()"
   ]
  }
 ],
 "metadata": {
  "kernelspec": {
   "display_name": "Environment (conda_tensorflow2_latest_p37)",
   "language": "python",
   "name": "conda_tensorflow2_latest_p37"
  },
  "language_info": {
   "codemirror_mode": {
    "name": "ipython",
    "version": 3
   },
   "file_extension": ".py",
   "mimetype": "text/x-python",
   "name": "python",
   "nbconvert_exporter": "python",
   "pygments_lexer": "ipython3",
   "version": "3.7.10"
  }
 },
 "nbformat": 4,
 "nbformat_minor": 5
}
